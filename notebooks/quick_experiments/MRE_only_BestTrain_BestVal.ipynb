{
 "cells": [
  {
   "cell_type": "code",
   "execution_count": null,
   "metadata": {},
   "outputs": [],
   "source": [
    "# MRE best train vs val loss\n",
    "#  train/val split\n",
    "# perform few replicates with parameter sweeping\n",
    "# compare losses between best train and best val\n",
    "# compare losses between parameter ratio sweep"
   ]
  }
 ],
 "metadata": {
  "language_info": {
   "name": "python"
  }
 },
 "nbformat": 4,
 "nbformat_minor": 2
}
